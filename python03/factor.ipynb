{
  "nbformat": 4,
  "nbformat_minor": 0,
  "metadata": {
    "colab": {
      "provenance": []
    },
    "kernelspec": {
      "name": "python3",
      "display_name": "Python 3"
    },
    "language_info": {
      "name": "python"
    }
  },
  "cells": [
    {
      "cell_type": "code",
      "execution_count": 8,
      "metadata": {
        "colab": {
          "base_uri": "https://localhost:8080/"
        },
        "id": "lttCjsP21K16",
        "outputId": "1748fa4e-5d2a-4b72-e3cc-476111f702a7"
      },
      "outputs": [
        {
          "output_type": "stream",
          "name": "stdout",
          "text": [
            "enter a number: 10\n",
            "10\n",
            "9\n",
            "8\n",
            "7\n",
            "6\n",
            "5\n",
            "4\n",
            "3\n",
            "2\n",
            "1\n",
            "3628800\n"
          ]
        }
      ],
      "source": [
        "def shomaresh(a):\n",
        "    if(a<=1):\n",
        "         print(a)\n",
        "         return(1)\n",
        "    else:\n",
        "         print(a)\n",
        "         return(a*shomaresh(a-1))\n",
        "\n",
        "print(shomaresh(int(input(\"enter a number: \"))))"
      ]
    }
  ]
}