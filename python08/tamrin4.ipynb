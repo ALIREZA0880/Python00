{
  "nbformat": 4,
  "nbformat_minor": 0,
  "metadata": {
    "colab": {
      "provenance": []
    },
    "kernelspec": {
      "name": "python3",
      "display_name": "Python 3"
    },
    "language_info": {
      "name": "python"
    }
  },
  "cells": [
    {
      "cell_type": "code",
      "execution_count": 2,
      "metadata": {
        "colab": {
          "base_uri": "https://localhost:8080/"
        },
        "id": "I5Gn4AqC4z5L",
        "outputId": "7299fcbb-f796-4d1a-d33d-76f12c0fb2d5"
      },
      "outputs": [
        {
          "output_type": "stream",
          "name": "stdout",
          "text": [
            "reza\n"
          ]
        }
      ],
      "source": [
        "b={'alireza':11,'reza':32,'Amin':38,'arman':10}\n",
        "\n",
        "f=32\n",
        "for a in b:\n",
        "    if (b[a]==f):\n",
        "        print(a)\n",
        "#از آقای فتحی کمک گرفتم"
      ]
    }
  ]
}