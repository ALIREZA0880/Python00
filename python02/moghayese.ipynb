{
  "nbformat": 4,
  "nbformat_minor": 0,
  "metadata": {
    "colab": {
      "provenance": []
    },
    "kernelspec": {
      "name": "python3",
      "display_name": "Python 3"
    },
    "language_info": {
      "name": "python"
    }
  },
  "cells": [
    {
      "cell_type": "code",
      "execution_count": 11,
      "metadata": {
        "colab": {
          "base_uri": "https://localhost:8080/"
        },
        "id": "m6uo9ZXga9Ct",
        "outputId": "73c2ab47-e252-4100-8612-f1ff2cfd2479"
      },
      "outputs": [
        {
          "output_type": "stream",
          "name": "stdout",
          "text": [
            "bigger\n"
          ]
        }
      ],
      "source": [
        "def compare(a,b):\n",
        "\n",
        "      if(a>b):\n",
        "         print(\"bigger\")\n",
        "      elif(a==b):\n",
        "           print(\"draw\")\n",
        "      else:\n",
        "          print(\"smaller\")\n",
        "compare(20,5)"
      ]
    }
  ]
}