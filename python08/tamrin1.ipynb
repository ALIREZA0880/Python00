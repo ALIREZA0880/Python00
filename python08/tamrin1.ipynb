{
  "nbformat": 4,
  "nbformat_minor": 0,
  "metadata": {
    "colab": {
      "provenance": []
    },
    "kernelspec": {
      "name": "python3",
      "display_name": "Python 3"
    },
    "language_info": {
      "name": "python"
    }
  },
  "cells": [
    {
      "cell_type": "code",
      "execution_count": null,
      "metadata": {
        "colab": {
          "base_uri": "https://localhost:8080/"
        },
        "id": "I5Gn4AqC4z5L",
        "outputId": "baf28900-2e5a-4b80-8d5f-381d12157e44"
      },
      "outputs": [
        {
          "output_type": "stream",
          "name": "stdout",
          "text": [
            "False\n",
            "False\n",
            "False\n",
            "True\n",
            "True\n"
          ]
        }
      ],
      "source": [
        "b={'alireza':20,'Arman':21}\n",
        "\n",
        "print(20 in b)\n",
        "print(21 in b)\n",
        "print('A' in b)\n",
        "print('Arman' in b)\n",
        "print('alireza' in b)\n",
        "# از آقای فتحی کمک گرقتم"
      ]
    }
  ]
}