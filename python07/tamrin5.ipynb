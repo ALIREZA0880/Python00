{
  "nbformat": 4,
  "nbformat_minor": 0,
  "metadata": {
    "colab": {
      "provenance": []
    },
    "kernelspec": {
      "name": "python3",
      "display_name": "Python 3"
    },
    "language_info": {
      "name": "python"
    }
  },
  "cells": [
    {
      "cell_type": "code",
      "execution_count": 21,
      "metadata": {
        "colab": {
          "base_uri": "https://localhost:8080/"
        },
        "id": "tT-lpF5-PCwD",
        "outputId": "a43a6415-f7e7-485d-b9b5-8455726feb2b"
      },
      "outputs": [
        {
          "output_type": "stream",
          "name": "stdout",
          "text": [
            "['say my', 'name', 'alireza....']\n"
          ]
        }
      ],
      "source": [
        "x=['say ','na','ali']\n",
        "y=['my','me','reza....']\n",
        "z=[]\n",
        "d=len(x) if len(x)>=len(y)else len(y)\n",
        "for i in range(d):\n",
        "    z.append(x[i]+y[i])\n",
        "\n",
        "print(z)\n",
        "\n",
        "#از آقای فتحی کمک گرفتم"
      ]
    },
    {
      "cell_type": "code",
      "source": [],
      "metadata": {
        "id": "VPk80sVJEOH4"
      },
      "execution_count": null,
      "outputs": []
    }
  ]
}