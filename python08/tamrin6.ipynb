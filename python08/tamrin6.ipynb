{
  "nbformat": 4,
  "nbformat_minor": 0,
  "metadata": {
    "colab": {
      "provenance": []
    },
    "kernelspec": {
      "name": "python3",
      "display_name": "Python 3"
    },
    "language_info": {
      "name": "python"
    }
  },
  "cells": [
    {
      "cell_type": "code",
      "execution_count": 15,
      "metadata": {
        "colab": {
          "base_uri": "https://localhost:8080/"
        },
        "id": "I5Gn4AqC4z5L",
        "outputId": "11dcfe7d-3522-4f27-884e-8caa0ef50126"
      },
      "outputs": [
        {
          "output_type": "stream",
          "name": "stdout",
          "text": [
            "enter a textalireza reza ALi\n",
            "a : 3\n",
            "l : 1\n",
            "i : 2\n",
            "r : 2\n",
            "e : 2\n",
            "z : 2\n",
            "  : 2\n",
            "A : 1\n",
            "L : 1\n"
          ]
        }
      ],
      "source": [
        "b=dict()\n",
        "a=input(\"enter a text\")\n",
        "\n",
        "for c in a:\n",
        "    if c in b:\n",
        "        b[c]+=1\n",
        "    else:\n",
        "        b[c]=1\n",
        "\n",
        "for c in b:\n",
        "    print(c,\":\",b[c])\n",
        "#از آقای فتحی کمک گرفتم"
      ]
    }
  ]
}