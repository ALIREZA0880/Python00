{
  "nbformat": 4,
  "nbformat_minor": 0,
  "metadata": {
    "colab": {
      "provenance": []
    },
    "kernelspec": {
      "name": "python3",
      "display_name": "Python 3"
    },
    "language_info": {
      "name": "python"
    }
  },
  "cells": [
    {
      "cell_type": "code",
      "execution_count": 12,
      "metadata": {
        "id": "tT-lpF5-PCwD"
      },
      "outputs": [],
      "source": [
        "def b(text):\n",
        "    up=[]\n",
        "    low=[]\n",
        "    mark=[]\n",
        "    for a in text:\n",
        "          if(a.isalpha()):\n",
        "              if(a.isupper()):\n",
        "                  up.append(a)\n",
        "              else:\n",
        "                  low.append(a)\n",
        "          else:\n",
        "              mark.append(a)\n",
        "    print(up)\n",
        "    print(low)\n",
        "    print(mark)\n",
        "    b(input('enter a text: '))\n",
        "#از آقای فتحی کمک گرفتم"
      ]
    }
  ]
}