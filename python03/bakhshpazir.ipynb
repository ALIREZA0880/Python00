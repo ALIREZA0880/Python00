{
  "nbformat": 4,
  "nbformat_minor": 0,
  "metadata": {
    "colab": {
      "provenance": []
    },
    "kernelspec": {
      "name": "python3",
      "display_name": "Python 3"
    },
    "language_info": {
      "name": "python"
    }
  },
  "cells": [
    {
      "cell_type": "code",
      "execution_count": 4,
      "metadata": {
        "colab": {
          "base_uri": "https://localhost:8080/"
        },
        "id": "lttCjsP21K16",
        "outputId": "8c1d78f2-22fd-4bc5-ec68-9c0272e4dd75"
      },
      "outputs": [
        {
          "name": "stdout",
          "output_type": "stream",
          "text": [
            "enter the first number :6\n",
            "enter the second number :2\n"
          ]
        },
        {
          "output_type": "execute_result",
          "data": {
            "text/plain": [
              "True"
            ]
          },
          "metadata": {},
          "execution_count": 4
        }
      ],
      "source": [
        "def bakhshpazir(z,x):\n",
        "    if(z%x==0):\n",
        "        return(True)\n",
        "    else:\n",
        "        return(False)\n",
        "\n",
        "bakhshpazir(int(input(\"enter the first number :\")),int(input(\"enter the second number :\")))\n",
        "#از آقای فتحی کمک گرفتم"
      ]
    }
  ]
}