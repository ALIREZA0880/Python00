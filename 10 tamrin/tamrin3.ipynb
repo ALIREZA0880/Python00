{
  "nbformat": 4,
  "nbformat_minor": 0,
  "metadata": {
    "colab": {
      "provenance": []
    },
    "kernelspec": {
      "name": "python3",
      "display_name": "Python 3"
    },
    "language_info": {
      "name": "python"
    }
  },
  "cells": [
    {
      "cell_type": "code",
      "execution_count": 6,
      "metadata": {
        "colab": {
          "base_uri": "https://localhost:8080/"
        },
        "id": "O-g8BXVpHzax",
        "outputId": "b63c1641-b490-4b06-a33f-bd987604912d"
      },
      "outputs": [
        {
          "output_type": "stream",
          "name": "stdout",
          "text": [
            "moshtarak: [3, 4, 5]\n"
          ]
        }
      ],
      "source": [
        "def moshtarak(list1, list2):\n",
        "    return list(set(list1) & set(list2))\n",
        "\n",
        "list_a = [1, 2, 3, 4, 5]\n",
        "list_b = [3, 4, 5, 6, 7]\n",
        "print(\"moshtarak:\", moshtarak(list_a, list_b))"
      ]
    }
  ]
}