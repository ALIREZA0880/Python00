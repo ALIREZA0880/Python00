{
  "nbformat": 4,
  "nbformat_minor": 0,
  "metadata": {
    "colab": {
      "provenance": []
    },
    "kernelspec": {
      "name": "python3",
      "display_name": "Python 3"
    },
    "language_info": {
      "name": "python"
    }
  },
  "cells": [
    {
      "cell_type": "code",
      "execution_count": null,
      "metadata": {
        "colab": {
          "base_uri": "https://localhost:8080/"
        },
        "id": "I5Gn4AqC4z5L",
        "outputId": "cb66c099-262e-481b-a502-17df2b684377"
      },
      "outputs": [
        {
          "output_type": "stream",
          "name": "stdout",
          "text": [
            "['alireza', 'amin', 'arman']\n"
          ]
        }
      ],
      "source": [
        "b={'alireza':22,'arman':52,'amin':31}\n",
        "print(sorted(b))\n",
        "# از آقای فتحی کمک گرقتم"
      ]
    }
  ]
}