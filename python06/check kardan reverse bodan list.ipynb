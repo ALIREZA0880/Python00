{
  "nbformat": 4,
  "nbformat_minor": 0,
  "metadata": {
    "colab": {
      "provenance": []
    },
    "kernelspec": {
      "name": "python3",
      "display_name": "Python 3"
    },
    "language_info": {
      "name": "python"
    }
  },
  "cells": [
    {
      "cell_type": "code",
      "execution_count": 2,
      "metadata": {
        "colab": {
          "base_uri": "https://localhost:8080/"
        },
        "id": "Yv0ANxtoi0Vl",
        "outputId": "ba7f26fe-5236-41e5-eb76-52c5918b6ed3"
      },
      "outputs": [
        {
          "output_type": "stream",
          "name": "stdout",
          "text": [
            "False\n"
          ]
        }
      ],
      "source": [
        "names = [\"sara\", \"omid\", \"amir\", \"roya\" ,\"ehsan\"]\n",
        "b=names[::-1]\n",
        "print(names==b)\n"
      ]
    }
  ]
}