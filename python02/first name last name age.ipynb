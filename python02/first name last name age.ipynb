{
  "cells": [
    {
      "cell_type": "code",
      "execution_count": null,
      "metadata": {
        "colab": {
          "base_uri": "https://localhost:8080/"
        },
        "id": "_2-dtL_ezK6U",
        "outputId": "2deb8430-11af-4e21-877b-a732cce37d3e"
      },
      "outputs": [
        {
          "name": "stdout",
          "output_type": "stream",
          "text": [
            "alirezaalamdarzadeh20\n"
          ]
        }
      ],
      "source": [
        "\n",
        "a = \"alireza\"\n",
        "b=\"alamdarzadeh\"\n",
        "c= \"20\"\n",
        "#ما اینجا 3 تا تابع تعریف کردیم\n",
        "etelaat=a+b+c\n",
        "# بعد اینجا با یک تابع دیگر بقیه تابع هارا جمع میکنیم\n",
        "print(etelaat)\n",
        "#بعد با دستور پرینت و مجموع اطلاعات جمع شده را بهم می چسبانیم"
      ]
    }
  ],
  "metadata": {
    "colab": {
      "provenance": []
    },
    "kernelspec": {
      "display_name": "Python 3",
      "name": "python3"
    },
    "language_info": {
      "name": "python"
    }
  },
  "nbformat": 4,
  "nbformat_minor": 0
}
