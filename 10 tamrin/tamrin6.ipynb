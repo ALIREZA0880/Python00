{
  "nbformat": 4,
  "nbformat_minor": 0,
  "metadata": {
    "colab": {
      "provenance": []
    },
    "kernelspec": {
      "name": "python3",
      "display_name": "Python 3"
    },
    "language_info": {
      "name": "python"
    }
  },
  "cells": [
    {
      "cell_type": "code",
      "execution_count": 12,
      "metadata": {
        "colab": {
          "base_uri": "https://localhost:8080/"
        },
        "id": "O-g8BXVpHzax",
        "outputId": "76d45172-bd2b-4acb-8321-93586c39e376"
      },
      "outputs": [
        {
          "output_type": "stream",
          "name": "stdout",
          "text": [
            " enter a number: 9\n",
            "(9, 'x', 1, '=', 9)\n",
            "(9, 'x', 2, '=', 18)\n",
            "(9, 'x', 3, '=', 27)\n",
            "(9, 'x', 4, '=', 36)\n",
            "(9, 'x', 5, '=', 45)\n",
            "(9, 'x', 6, '=', 54)\n",
            "(9, 'x', 7, '=', 63)\n",
            "(9, 'x', 8, '=', 72)\n",
            "(9, 'x', 9, '=', 81)\n",
            "(9, 'x', 10, '=', 90)\n"
          ]
        }
      ],
      "source": [
        "x= int(input(\" enter a number: \"))\n",
        "j=1\n",
        "while(j<11):\n",
        "    z = x*j\n",
        "    y=x, \"x\"  ,j,  \"=\",z\n",
        "    print(y)\n",
        "    j=j+1"
      ]
    }
  ]
}