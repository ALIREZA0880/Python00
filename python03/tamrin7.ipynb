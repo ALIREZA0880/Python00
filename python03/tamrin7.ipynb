{
  "nbformat": 4,
  "nbformat_minor": 0,
  "metadata": {
    "colab": {
      "provenance": []
    },
    "kernelspec": {
      "name": "python3",
      "display_name": "Python 3"
    },
    "language_info": {
      "name": "python"
    }
  },
  "cells": [
    {
      "cell_type": "code",
      "execution_count": 5,
      "metadata": {
        "colab": {
          "base_uri": "https://localhost:8080/"
        },
        "id": "PTa4djJtNybG",
        "outputId": "02a7171e-6299-4095-e173-c14a9c4211b7"
      },
      "outputs": [
        {
          "name": "stdout",
          "output_type": "stream",
          "text": [
            "enter a number: 5\n",
            "enter a number: 6\n"
          ]
        },
        {
          "output_type": "execute_result",
          "data": {
            "text/plain": [
              "3.1"
            ]
          },
          "metadata": {},
          "execution_count": 5
        }
      ],
      "source": [
        "def mathquest(x,a):\n",
        "    return((x+(a/x))/2)\n",
        "\n",
        "mathquest(int(input(\"enter a number: \")),int(input(\"enter a number: \")))\n",
        "#در این تمرین از آقای فتحی کمک گرفتم"
      ]
    }
  ]
}