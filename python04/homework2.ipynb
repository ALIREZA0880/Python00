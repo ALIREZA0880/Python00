{
  "nbformat": 4,
  "nbformat_minor": 0,
  "metadata": {
    "colab": {
      "provenance": []
    },
    "kernelspec": {
      "name": "python3",
      "display_name": "Python 3"
    },
    "language_info": {
      "name": "python"
    }
  },
  "cells": [
    {
      "cell_type": "code",
      "execution_count": 5,
      "metadata": {
        "colab": {
          "base_uri": "https://localhost:8080/"
        },
        "id": "M8Sk_LGb_BKb",
        "outputId": "c94ff4b0-2cf9-43d0-a6ce-6863c2f014c5"
      },
      "outputs": [
        {
          "output_type": "stream",
          "name": "stdout",
          "text": [
            "Enter opp90\n",
            "Enter adj60\n",
            "Enter nyp30\n",
            "6.0\n"
          ]
        }
      ],
      "source": [
        "def sign(opp,nyp):\n",
        "    return(opp/nyp)\n",
        "def cosing(opp,adj):\n",
        "    return(opp/adj)\n",
        "def result():\n",
        "    opp=int(input('Enter opp'))\n",
        "    adj=int(input('Enter adj'))\n",
        "    nyp=int(input('Enter nyp'))\n",
        "    print((sign(opp,nyp)/cosing(opp,adj))*sign(opp,nyp))\n",
        "\n",
        "result()\n",
        "#از آقای فتحی کمک گرفتم"
      ]
    },
    {
      "cell_type": "markdown",
      "source": [],
      "metadata": {
        "id": "yzc9AKO2AeD8"
      }
    }
  ]
}