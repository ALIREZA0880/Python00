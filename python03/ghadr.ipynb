{
  "nbformat": 4,
  "nbformat_minor": 0,
  "metadata": {
    "colab": {
      "provenance": []
    },
    "kernelspec": {
      "name": "python3",
      "display_name": "Python 3"
    },
    "language_info": {
      "name": "python"
    }
  },
  "cells": [
    {
      "cell_type": "code",
      "execution_count": 7,
      "metadata": {
        "colab": {
          "base_uri": "https://localhost:8080/"
        },
        "id": "lttCjsP21K16",
        "outputId": "8bbe5efc-cfe0-4afe-d511-138f7bdaa059"
      },
      "outputs": [
        {
          "name": "stdout",
          "output_type": "stream",
          "text": [
            "enter a number: 9\n"
          ]
        },
        {
          "output_type": "execute_result",
          "data": {
            "text/plain": [
              "9"
            ]
          },
          "metadata": {},
          "execution_count": 7
        }
      ],
      "source": [
        "def ghadr(num):\n",
        "    if(num<0):\n",
        "        return(-1*(num))\n",
        "    else:\n",
        "        return(num)\n",
        "\n",
        "ghadr(int(input(\"enter a number: \")))"
      ]
    }
  ]
}