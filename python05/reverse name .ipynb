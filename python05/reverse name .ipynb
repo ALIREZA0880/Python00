{
  "nbformat": 4,
  "nbformat_minor": 0,
  "metadata": {
    "colab": {
      "provenance": []
    },
    "kernelspec": {
      "name": "python3",
      "display_name": "Python 3"
    },
    "language_info": {
      "name": "python"
    }
  },
  "cells": [
    {
      "cell_type": "code",
      "execution_count": 3,
      "metadata": {
        "colab": {
          "base_uri": "https://localhost:8080/"
        },
        "id": "jp143dgR1tlE",
        "outputId": "3ab68755-74a5-4381-fd44-8913c071714a"
      },
      "outputs": [
        {
          "output_type": "stream",
          "name": "stdout",
          "text": [
            "r\n",
            "false\n",
            "ri\n",
            "false\n",
            "rim\n",
            "false\n",
            "rima\n",
            "false\n"
          ]
        }
      ],
      "source": [
        "x = 'amir'\n",
        "a = len(x)-1\n",
        "y = ''\n",
        "while(a>=0):\n",
        "  y=y+x[a]\n",
        "  a=a-1\n",
        "  print(y)\n",
        "  if(y==x):\n",
        "    print('true')\n",
        "  else:\n",
        "    print('false')"
      ]
    }
  ]
}