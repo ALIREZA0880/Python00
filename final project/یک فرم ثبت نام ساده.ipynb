{
  "nbformat": 4,
  "nbformat_minor": 0,
  "metadata": {
    "colab": {
      "provenance": []
    },
    "kernelspec": {
      "name": "python3",
      "display_name": "Python 3"
    },
    "language_info": {
      "name": "python"
    }
  },
  "cells": [
    {
      "cell_type": "code",
      "execution_count": 44,
      "metadata": {
        "colab": {
          "base_uri": "https://localhost:8080/"
        },
        "id": "dtUBXr_v3VCm",
        "outputId": "afb4da6f-e521-4dc7-bd8c-1c170600be2e"
      },
      "outputs": [
        {
          "output_type": "stream",
          "name": "stdout",
          "text": [
            "enter a your firstname: ali\n",
            "ali\n",
            "enter a your lasttname: reza\n",
            "reza\n",
            "سن خود را وارد کنید: 17\n",
            "اجازه ورود ندارید\n",
            "شما 1 سال تا 18 سالگی فاصله دارید\n"
          ]
        }
      ],
      "source": [
        "a=input(\"enter a your firstname: \")\n",
        "print (a)\n",
        "b=input(\"enter a your lasttname: \")\n",
        "print (b)\n",
        "age =int(input(\"سن خود را وارد کنید: \"))\n",
        "\n",
        "for i in range(1):\n",
        "\n",
        "    if age >= 18:\n",
        "\n",
        "        print(\"خوش آمدید، \" + a + \" \" + b)\n",
        "\n",
        "        break\n",
        "\n",
        "\n",
        "    else:\n",
        "       age < 18\n",
        "\n",
        "    print(\"اجازه ورود ندارید\")\n",
        "\n",
        "    rest = 18 - age\n",
        "\n",
        "    print(\"شما \" + str(rest) + \" سال تا 18 سالگی فاصله دارید\")\n",
        "\n",
        "\n",
        "\n"
      ]
    },
    {
      "cell_type": "code",
      "source": [],
      "metadata": {
        "id": "N1TR8PUc_jMw"
      },
      "execution_count": null,
      "outputs": []
    }
  ]
}