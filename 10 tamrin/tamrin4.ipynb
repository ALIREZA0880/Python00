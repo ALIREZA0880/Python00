{
  "nbformat": 4,
  "nbformat_minor": 0,
  "metadata": {
    "colab": {
      "provenance": []
    },
    "kernelspec": {
      "name": "python3",
      "display_name": "Python 3"
    },
    "language_info": {
      "name": "python"
    }
  },
  "cells": [
    {
      "cell_type": "code",
      "execution_count": 7,
      "metadata": {
        "colab": {
          "base_uri": "https://localhost:8080/"
        },
        "id": "O-g8BXVpHzax",
        "outputId": "dc595821-5837-423d-cba8-8b92b1953032"
      },
      "outputs": [
        {
          "output_type": "stream",
          "name": "stdout",
          "text": [
            "radar is a palindrome.\n"
          ]
        }
      ],
      "source": [
        "def is_palindrome(word):\n",
        "    return word == word[::-1]\n",
        "\n",
        "text = \"radar\"\n",
        "if is_palindrome(text):\n",
        "    print(text, \"is a palindrome.\")\n",
        "else:\n",
        "    print(text, \"is not a palindrome.\")"
      ]
    }
  ]
}