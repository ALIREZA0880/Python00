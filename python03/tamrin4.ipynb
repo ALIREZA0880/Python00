{
  "nbformat": 4,
  "nbformat_minor": 0,
  "metadata": {
    "colab": {
      "provenance": []
    },
    "kernelspec": {
      "name": "python3",
      "display_name": "Python 3"
    },
    "language_info": {
      "name": "python"
    }
  },
  "cells": [
    {
      "cell_type": "code",
      "execution_count": 6,
      "metadata": {
        "colab": {
          "base_uri": "https://localhost:8080/"
        },
        "id": "PTa4djJtNybG",
        "outputId": "197bf8ff-a22f-4019-9235-a5efe4302b2a"
      },
      "outputs": [
        {
          "name": "stdout",
          "output_type": "stream",
          "text": [
            "enter a number 1 : 15\n",
            "enter number 2 :55\n",
            "enter number 3 : 66\n"
          ]
        },
        {
          "output_type": "execute_result",
          "data": {
            "text/plain": [
              "72.58472019555188"
            ]
          },
          "metadata": {},
          "execution_count": 6
        }
      ],
      "source": [
        "import math as m\n",
        "def mathquest(a,b,c):\n",
        "    return(a+(m.sqrt((((a)**2)+((b)**2))+c)))\n",
        "mathquest(int(input(\"enter a number 1 : \")),int(input(\"enter number 2 :\")),int(input(\"enter number 3 : \")))\n",
        "#در این تمرین از آقای فتحی کمک گرفتم"
      ]
    }
  ]
}