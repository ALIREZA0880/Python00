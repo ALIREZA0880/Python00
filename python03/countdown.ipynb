{
  "nbformat": 4,
  "nbformat_minor": 0,
  "metadata": {
    "colab": {
      "provenance": []
    },
    "kernelspec": {
      "name": "python3",
      "display_name": "Python 3"
    },
    "language_info": {
      "name": "python"
    }
  },
  "cells": [
    {
      "cell_type": "code",
      "execution_count": 1,
      "metadata": {
        "colab": {
          "base_uri": "https://localhost:8080/"
        },
        "id": "PTa4djJtNybG",
        "outputId": "1dcc15f1-da79-4b7c-81d2-a567b2ab6799"
      },
      "outputs": [
        {
          "output_type": "stream",
          "name": "stdout",
          "text": [
            "3\n",
            "0 stop\n"
          ]
        }
      ],
      "source": [
        "def countdown(n):\n",
        "     while(n>0):\n",
        "           print(n)\n",
        "           n=n-1\n",
        "           break\n",
        "     print(0,\"stop\")\n",
        "countdown(3)"
      ]
    }
  ]
}