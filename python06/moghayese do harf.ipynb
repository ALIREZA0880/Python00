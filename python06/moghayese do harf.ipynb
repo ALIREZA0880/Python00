{
  "nbformat": 4,
  "nbformat_minor": 0,
  "metadata": {
    "colab": {
      "provenance": []
    },
    "kernelspec": {
      "name": "python3",
      "display_name": "Python 3"
    },
    "language_info": {
      "name": "python"
    }
  },
  "cells": [
    {
      "cell_type": "code",
      "execution_count": 20,
      "metadata": {
        "colab": {
          "base_uri": "https://localhost:8080/"
        },
        "id": "Yv0ANxtoi0Vl",
        "outputId": "61251732-50f1-4b12-d3af-cc77583f811a"
      },
      "outputs": [
        {
          "output_type": "stream",
          "name": "stdout",
          "text": [
            "enter txt1: a\n",
            "enter txt2:a\n",
            "True\n"
          ]
        }
      ],
      "source": [
        "def a(str1,str2):\n",
        "    txt = ''\n",
        "    for s in str1:\n",
        "        txt=s+txt\n",
        "    print(txt==str2)\n",
        "a(input('enter txt1: '),input('enter txt2:'))\n",
        "#در این تمرین از آقای فتحی کمک گرفتم"
      ]
    },
    {
      "cell_type": "code",
      "source": [],
      "metadata": {
        "id": "UDeEoiJGHMXO"
      },
      "execution_count": 19,
      "outputs": []
    }
  ]
}