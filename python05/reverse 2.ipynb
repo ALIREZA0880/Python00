{
  "nbformat": 4,
  "nbformat_minor": 0,
  "metadata": {
    "colab": {
      "provenance": []
    },
    "kernelspec": {
      "name": "python3",
      "display_name": "Python 3"
    },
    "language_info": {
      "name": "python"
    }
  },
  "cells": [
    {
      "cell_type": "code",
      "execution_count": 4,
      "metadata": {
        "colab": {
          "base_uri": "https://localhost:8080/"
        },
        "id": "jp143dgR1tlE",
        "outputId": "6e7f7817-2d31-435d-e5ce-2c75caa2b08e"
      },
      "outputs": [
        {
          "output_type": "stream",
          "name": "stdout",
          "text": [
            "a\n",
            "ma\n",
            "ima\n",
            "rima\n",
            "false\n"
          ]
        }
      ],
      "source": [
        "x = 'amir'\n",
        "y = ''\n",
        "for i in x:\n",
        "      y= i + y\n",
        "      print(y)\n",
        "if(y==x):\n",
        "      print('true')\n",
        "else:\n",
        "      print('false')"
      ]
    }
  ]
}