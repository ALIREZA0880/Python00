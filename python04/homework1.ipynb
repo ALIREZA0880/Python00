{
  "nbformat": 4,
  "nbformat_minor": 0,
  "metadata": {
    "colab": {
      "provenance": []
    },
    "kernelspec": {
      "name": "python3",
      "display_name": "Python 3"
    },
    "language_info": {
      "name": "python"
    }
  },
  "cells": [
    {
      "cell_type": "code",
      "execution_count": 4,
      "metadata": {
        "colab": {
          "base_uri": "https://localhost:8080/"
        },
        "id": "M8Sk_LGb_BKb",
        "outputId": "e9364ab5-ac7d-4e66-a4a2-0601f09ca2e7"
      },
      "outputs": [
        {
          "output_type": "stream",
          "name": "stdout",
          "text": [
            "Enter opp10\n",
            "Enter adj6\n",
            "Enter nyp3\n",
            "5.0\n"
          ]
        }
      ],
      "source": [
        "def sign(opp,nyp):\n",
        "    return(opp/nyp)\n",
        "def cosing(opp,adj):\n",
        "    return(opp/adj)\n",
        "def result():\n",
        "    opp=int(input('Enter opp'))\n",
        "    adj=int(input('Enter adj'))\n",
        "    nyp=int(input('Enter nyp'))\n",
        "    print(sign(opp,nyp)+cosing(opp,adj))\n",
        "\n",
        "result()\n",
        "#از آقای فتحی کمک گرفتم"
      ]
    }
  ]
}