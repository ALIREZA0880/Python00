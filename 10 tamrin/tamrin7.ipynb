{
  "nbformat": 4,
  "nbformat_minor": 0,
  "metadata": {
    "colab": {
      "provenance": []
    },
    "kernelspec": {
      "name": "python3",
      "display_name": "Python 3"
    },
    "language_info": {
      "name": "python"
    }
  },
  "cells": [
    {
      "cell_type": "code",
      "execution_count": 13,
      "metadata": {
        "colab": {
          "base_uri": "https://localhost:8080/"
        },
        "id": "O-g8BXVpHzax",
        "outputId": "5d9a7029-4ea3-474d-e4eb-95d567679abc"
      },
      "outputs": [
        {
          "output_type": "stream",
          "name": "stdout",
          "text": [
            "Please Enter A Number: 8\n",
            "8 is even!\n"
          ]
        }
      ],
      "source": [
        "\n",
        "def odd_even(num):\n",
        "    result = num % 2\n",
        "    if (result == 0):\n",
        "        print(\"%d is even.\" %(num))\n",
        "    else:\n",
        "        print(\"%d is odd.\" %(num))\n",
        "\n",
        "\n",
        "num = int(input(\"Please Enter A Number: \"))\n",
        "odd_even(num)"
      ]
    }
  ]
}