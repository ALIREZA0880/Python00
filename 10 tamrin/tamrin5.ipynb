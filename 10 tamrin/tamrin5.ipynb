{
  "nbformat": 4,
  "nbformat_minor": 0,
  "metadata": {
    "colab": {
      "provenance": []
    },
    "kernelspec": {
      "name": "python3",
      "display_name": "Python 3"
    },
    "language_info": {
      "name": "python"
    }
  },
  "cells": [
    {
      "cell_type": "code",
      "execution_count": 11,
      "metadata": {
        "colab": {
          "base_uri": "https://localhost:8080/"
        },
        "id": "O-g8BXVpHzax",
        "outputId": "a684b798-01b4-4901-cd19-ff15a2595241"
      },
      "outputs": [
        {
          "output_type": "stream",
          "name": "stdout",
          "text": [
            "yek adad varad konid: 10\n",
            "10bakhsh pazir ast\n"
          ]
        }
      ],
      "source": [
        "a = input('yek adad varad konid: ')\n",
        "\n",
        "if(int(a) % 5) == 0:\n",
        "  print(a + 'bakhsh pazir ast')\n",
        "else:\n",
        "  print(a + 'bakhsh pazir nist')"
      ]
    }
  ]
}