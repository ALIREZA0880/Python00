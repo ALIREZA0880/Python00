{
  "nbformat": 4,
  "nbformat_minor": 0,
  "metadata": {
    "colab": {
      "provenance": []
    },
    "kernelspec": {
      "name": "python3",
      "display_name": "Python 3"
    },
    "language_info": {
      "name": "python"
    }
  },
  "cells": [
    {
      "cell_type": "code",
      "execution_count": 5,
      "metadata": {
        "colab": {
          "base_uri": "https://localhost:8080/"
        },
        "id": "lttCjsP21K16",
        "outputId": "eb068e34-2c6c-4559-e560-9e1285685150"
      },
      "outputs": [
        {
          "name": "stdout",
          "output_type": "stream",
          "text": [
            "rnter first number: 8\n",
            "enter second number: 8\n"
          ]
        },
        {
          "output_type": "execute_result",
          "data": {
            "text/plain": [
              "11.313708498984761"
            ]
          },
          "metadata": {},
          "execution_count": 5
        }
      ],
      "source": [
        "import math as m\n",
        "def tavan(a,b):\n",
        "    return(m.sqrt(((a)**2)+((b)**2)))\n",
        "tavan(int(input(\"rnter first number: \")),int(input(\"enter second number: \")))\n",
        "#در این تمرین از آقای فتحی کمک گرفتم"
      ]
    }
  ]
}