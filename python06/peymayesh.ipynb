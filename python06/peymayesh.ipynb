{
  "nbformat": 4,
  "nbformat_minor": 0,
  "metadata": {
    "colab": {
      "provenance": []
    },
    "kernelspec": {
      "name": "python3",
      "display_name": "Python 3"
    },
    "language_info": {
      "name": "python"
    }
  },
  "cells": [
    {
      "cell_type": "code",
      "execution_count": 26,
      "metadata": {
        "colab": {
          "base_uri": "https://localhost:8080/"
        },
        "id": "Yv0ANxtoi0Vl",
        "outputId": "3b7258c1-3a0f-4890-c30a-587e241d3ce2"
      },
      "outputs": [
        {
          "output_type": "stream",
          "name": "stdout",
          "text": [
            "sara\n",
            "omid\n",
            "amir\n",
            "roya\n",
            "ehsan\n"
          ]
        }
      ],
      "source": [
        "names = [\"sara\", \"omid\", \"amir\", \"roya\" ,\"ehsan\"]\n",
        "for i in range(0, 5):\n",
        "    print( names[i] )\n",
        ""
      ]
    }
  ]
}