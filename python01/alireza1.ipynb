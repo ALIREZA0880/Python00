{
 "cells": [
  {
   "cell_type": "code",
   "execution_count": 1,
   "id": "967beeff-6fe7-43f0-868d-6c4190b23339",
   "metadata": {},
   "outputs": [
    {
     "name": "stdout",
     "output_type": "stream",
     "text": [
      "alireza\n"
     ]
    }
   ],
   "source": [
    "print(\"alireza\")"
   ]
  },
  {
   "cell_type": "code",
   "execution_count": 2,
   "id": "2dcbe55d-67ba-4a6c-94f8-ec67f8d4c383",
   "metadata": {},
   "outputs": [
    {
     "name": "stdout",
     "output_type": "stream",
     "text": [
      "alamdarzadeh\n"
     ]
    }
   ],
   "source": [
    "print(\"alamdarzadeh\")"
   ]
  },
  {
   "cell_type": "code",
   "execution_count": 3,
   "id": "847fbb15-43fc-4a17-98b0-57c59521d4cf",
   "metadata": {},
   "outputs": [
    {
     "name": "stdout",
     "output_type": "stream",
     "text": [
      "20\n"
     ]
    }
   ],
   "source": [
    "print(\"20\")"
   ]
  },
  {
   "cell_type": "code",
   "execution_count": null,
   "id": "5b1beb93-78d7-4d68-8855-2f5bf8ea2de5",
   "metadata": {},
   "outputs": [],
   "source": []
  }
 ],
 "metadata": {
  "kernelspec": {
   "display_name": "Python 3 (ipykernel)",
   "language": "python",
   "name": "python3"
  },
  "language_info": {
   "codemirror_mode": {
    "name": "ipython",
    "version": 3
   },
   "file_extension": ".py",
   "mimetype": "text/x-python",
   "name": "python",
   "nbconvert_exporter": "python",
   "pygments_lexer": "ipython3",
   "version": "3.10.7"
  }
 },
 "nbformat": 4,
 "nbformat_minor": 5
}
