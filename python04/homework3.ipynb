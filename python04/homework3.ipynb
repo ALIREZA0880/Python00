{
  "nbformat": 4,
  "nbformat_minor": 0,
  "metadata": {
    "colab": {
      "provenance": []
    },
    "kernelspec": {
      "name": "python3",
      "display_name": "Python 3"
    },
    "language_info": {
      "name": "python"
    }
  },
  "cells": [
    {
      "cell_type": "code",
      "execution_count": 6,
      "metadata": {
        "colab": {
          "base_uri": "https://localhost:8080/"
        },
        "id": "M8Sk_LGb_BKb",
        "outputId": "58e3679d-7101-4bbd-f949-41f959a6c86b"
      },
      "outputs": [
        {
          "output_type": "stream",
          "name": "stdout",
          "text": [
            "Enter a number:40\n",
            "Enter a number:20\n",
            "Enter a number:10\n",
            "1.4142135623730951\n"
          ]
        }
      ],
      "source": [
        "import math as m\n",
        "def result(x,y,t):\n",
        "    print(m.sqrt((x-y)/t))\n",
        "result(int(input('Enter a number:')),int(input('Enter a number:')),int(input('Enter a number:')))\n",
        "#از آقای فتحی کمک گرفتم"
      ]
    },
    {
      "cell_type": "markdown",
      "source": [],
      "metadata": {
        "id": "yzc9AKO2AeD8"
      }
    }
  ]
}