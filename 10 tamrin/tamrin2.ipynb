{
  "nbformat": 4,
  "nbformat_minor": 0,
  "metadata": {
    "colab": {
      "provenance": []
    },
    "kernelspec": {
      "name": "python3",
      "display_name": "Python 3"
    },
    "language_info": {
      "name": "python"
    }
  },
  "cells": [
    {
      "cell_type": "code",
      "execution_count": 5,
      "metadata": {
        "colab": {
          "base_uri": "https://localhost:8080/"
        },
        "id": "O-g8BXVpHzax",
        "outputId": "762ee620-78ea-4af8-b456-e5d38436411f"
      },
      "outputs": [
        {
          "output_type": "stream",
          "name": "stdout",
          "text": [
            "Reversed:  malaS\n"
          ]
        }
      ],
      "source": [
        "def reverse(input_str):\n",
        "    return input_str[::-1]\n",
        "\n",
        "text = \"Salam \"\n",
        "print(\"Reversed:\", reverse(text))"
      ]
    }
  ]
}