{
  "nbformat": 4,
  "nbformat_minor": 0,
  "metadata": {
    "colab": {
      "provenance": []
    },
    "kernelspec": {
      "name": "python3",
      "display_name": "Python 3"
    },
    "language_info": {
      "name": "python"
    }
  },
  "cells": [
    {
      "cell_type": "code",
      "execution_count": null,
      "metadata": {
        "colab": {
          "base_uri": "https://localhost:8080/"
        },
        "id": "I5Gn4AqC4z5L",
        "outputId": "8110a3eb-32a1-48bb-fc7c-b2bffe67c0f3"
      },
      "outputs": [
        {
          "output_type": "stream",
          "name": "stdout",
          "text": [
            "{'alireza': 22, 'arman': 52}\n"
          ]
        }
      ],
      "source": [
        "b={'alireza':22,'arman':52,'amin':31}\n",
        "b.pop('amin')\n",
        "print(b)\n",
        "#از آقای فتحی کمک گرفتم"
      ]
    }
  ]
}