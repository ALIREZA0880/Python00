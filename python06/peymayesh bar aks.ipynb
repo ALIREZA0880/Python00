{
  "nbformat": 4,
  "nbformat_minor": 0,
  "metadata": {
    "colab": {
      "provenance": []
    },
    "kernelspec": {
      "name": "python3",
      "display_name": "Python 3"
    },
    "language_info": {
      "name": "python"
    }
  },
  "cells": [
    {
      "cell_type": "code",
      "execution_count": 27,
      "metadata": {
        "colab": {
          "base_uri": "https://localhost:8080/"
        },
        "id": "Yv0ANxtoi0Vl",
        "outputId": "dee75a94-e126-45c0-812d-b5ac4ff9da52"
      },
      "outputs": [
        {
          "output_type": "stream",
          "name": "stdout",
          "text": [
            "ehsan\n",
            "sara\n",
            "omid\n",
            "amir\n",
            "roya\n"
          ]
        }
      ],
      "source": [
        "names = [\"sara\", \"omid\", \"amir\", \"roya\" ,\"ehsan\"]\n",
        "for i in range(0, 5):\n",
        "    print( names[i-1] )\n",
        ""
      ]
    }
  ]
}