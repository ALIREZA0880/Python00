{
  "nbformat": 4,
  "nbformat_minor": 0,
  "metadata": {
    "colab": {
      "provenance": []
    },
    "kernelspec": {
      "name": "python3",
      "display_name": "Python 3"
    },
    "language_info": {
      "name": "python"
    }
  },
  "cells": [
    {
      "cell_type": "code",
      "execution_count": 9,
      "metadata": {
        "colab": {
          "base_uri": "https://localhost:8080/"
        },
        "id": "I5Gn4AqC4z5L",
        "outputId": "6abf4106-3742-4b6a-fd74-6f06ee573c89"
      },
      "outputs": [
        {
          "output_type": "stream",
          "name": "stdout",
          "text": [
            "enter a textab ac \n",
            "{'a': 2, 'b': 1, ' ': 2, 'c': 1}\n"
          ]
        }
      ],
      "source": [
        "b={}\n",
        "a=input(\"enter a text\")\n",
        "\n",
        "for c in a:\n",
        "    if c in b:\n",
        "        b[c]+=1\n",
        "    else:\n",
        "        b[c]=1\n",
        "print(b)\n",
        "#از آقای فتحی کمک گرفتم"
      ]
    }
  ]
}