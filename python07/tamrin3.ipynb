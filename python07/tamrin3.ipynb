{
  "nbformat": 4,
  "nbformat_minor": 0,
  "metadata": {
    "colab": {
      "provenance": []
    },
    "kernelspec": {
      "name": "python3",
      "display_name": "Python 3"
    },
    "language_info": {
      "name": "python"
    }
  },
  "cells": [
    {
      "cell_type": "code",
      "execution_count": 18,
      "metadata": {
        "colab": {
          "base_uri": "https://localhost:8080/"
        },
        "id": "tT-lpF5-PCwD",
        "outputId": "2314d21c-e1b3-4d1f-a2c9-68ad51c3e1e5"
      },
      "outputs": [
        {
          "output_type": "stream",
          "name": "stdout",
          "text": [
            "[1, 2, 3, 4, 5, 6]\n"
          ]
        }
      ],
      "source": [
        "a=[1,3,5]\n",
        "b=[2,4,6]\n",
        "c=[]\n",
        "d=len(a) if len(a)>=len(b)else len(b)\n",
        "for i in range(d):\n",
        "    c.append(a[i])\n",
        "    c.append(b[i])\n",
        "\n",
        "print(c)\n",
        "\n",
        "#از آقای فتحی کمک گرفتم"
      ]
    }
  ]
}