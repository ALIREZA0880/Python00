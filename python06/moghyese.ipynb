{
  "nbformat": 4,
  "nbformat_minor": 0,
  "metadata": {
    "colab": {
      "provenance": []
    },
    "kernelspec": {
      "name": "python3",
      "display_name": "Python 3"
    },
    "language_info": {
      "name": "python"
    }
  },
  "cells": [
    {
      "cell_type": "code",
      "execution_count": 4,
      "metadata": {
        "colab": {
          "base_uri": "https://localhost:8080/"
        },
        "id": "Yv0ANxtoi0Vl",
        "outputId": "8ccce6b4-64ba-4bb9-cb82-8b0b872403f9"
      },
      "outputs": [
        {
          "output_type": "stream",
          "name": "stdout",
          "text": [
            "True\n",
            "False\n"
          ]
        }
      ],
      "source": [
        "a='true'\n",
        "b='false'\n",
        "print(a!=b)\n",
        "print(a==b)\n",
        "#در این تمرین از آقای فتحی کمک گرفتم"
      ]
    },
    {
      "cell_type": "code",
      "source": [],
      "metadata": {
        "id": "UDeEoiJGHMXO"
      },
      "execution_count": null,
      "outputs": []
    }
  ]
}