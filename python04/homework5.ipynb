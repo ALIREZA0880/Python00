{
  "nbformat": 4,
  "nbformat_minor": 0,
  "metadata": {
    "colab": {
      "provenance": []
    },
    "kernelspec": {
      "name": "python3",
      "display_name": "Python 3"
    },
    "language_info": {
      "name": "python"
    }
  },
  "cells": [
    {
      "cell_type": "code",
      "execution_count": 8,
      "metadata": {
        "colab": {
          "base_uri": "https://localhost:8080/"
        },
        "id": "M8Sk_LGb_BKb",
        "outputId": "b31b7535-a0aa-4b66-8df4-f03d4dca9362"
      },
      "outputs": [
        {
          "output_type": "stream",
          "name": "stdout",
          "text": [
            "Enter namealireza\n",
            "a\n",
            "l\n",
            "i\n",
            "r\n",
            "e\n",
            "z\n",
            "a\n"
          ]
        }
      ],
      "source": [
        "def result(text):\n",
        "    for a in text:\n",
        "        print(a)\n",
        "result(input(\"Enter name\"))\n",
        "#از آقای فتحی کمک گرفتم"
      ]
    },
    {
      "cell_type": "markdown",
      "source": [],
      "metadata": {
        "id": "yzc9AKO2AeD8"
      }
    }
  ]
}