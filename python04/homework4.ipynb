{
  "nbformat": 4,
  "nbformat_minor": 0,
  "metadata": {
    "colab": {
      "provenance": []
    },
    "kernelspec": {
      "name": "python3",
      "display_name": "Python 3"
    },
    "language_info": {
      "name": "python"
    }
  },
  "cells": [
    {
      "cell_type": "code",
      "execution_count": null,
      "metadata": {
        "colab": {
          "base_uri": "https://localhost:8080/"
        },
        "id": "M8Sk_LGb_BKb",
        "outputId": "17648099-8d48-4ed5-e089-256d3dd5b74b"
      },
      "outputs": [
        {
          "output_type": "stream",
          "name": "stdout",
          "text": [
            "Enter a number:40\n",
            "Enter a number:50\n",
            "Enter a number:20\n",
            "Enter a number:10\n",
            "-960\n"
          ]
        }
      ],
      "source": [
        "def result(x,a,n,y):\n",
        "    print(x-(a*(2*(n-y))))\n",
        "\n",
        "result(int(input('Enter a number:')),int(input('Enter a number:')),int(input('Enter a number:')),int(input('Enter a number:')))\n",
        "#از آقای فتحی کمک گرفتم"
      ]
    },
    {
      "cell_type": "markdown",
      "source": [],
      "metadata": {
        "id": "yzc9AKO2AeD8"
      }
    }
  ]
}